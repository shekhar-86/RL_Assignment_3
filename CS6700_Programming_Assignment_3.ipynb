{
  "cells": [
    {
      "cell_type": "code",
      "execution_count": 1,
      "metadata": {
        "id": "P_DODRgW_ZKS"
      },
      "outputs": [],
      "source": [
        "import numpy as np\n",
        "from tqdm import tqdm\n",
        "import random\n",
        "import gym\n",
        "# from gym.wrappers import Monitor\n",
        "import glob\n",
        "import io\n",
        "import matplotlib.pyplot as plt\n",
        "from IPython.display import HTML"
      ]
    },
    {
      "cell_type": "code",
      "execution_count": 2,
      "metadata": {
        "id": "fYNA5kiH_esJ",
        "colab": {
          "base_uri": "https://localhost:8080/"
        },
        "outputId": "694b3ce2-b116-4c7e-956c-4ff9f8518da3"
      },
      "outputs": [
        {
          "output_type": "stream",
          "name": "stdout",
          "text": [
            "126\n",
            "Number of states: 500\n",
            "Number of actions that an agent can take: 6\n",
            "Action taken: right\n",
            "Transition probability: {'prob': 1.0, 'action_mask': array([1, 0, 0, 1, 0, 0], dtype=int8)}\n",
            "Next state: 26\n",
            "Reward recieved: -1\n",
            "Terminal state: False\n"
          ]
        },
        {
          "output_type": "stream",
          "name": "stderr",
          "text": [
            "/usr/local/lib/python3.10/dist-packages/ipykernel/ipkernel.py:283: DeprecationWarning: `should_run_async` will not call `transform_cell` automatically in the future. Please pass the result to `transformed_cell` argument and any exception that happen during thetransform in `preprocessing_exc_tuple` in IPython 7.17 and above.\n",
            "  and should_run_async(code)\n"
          ]
        }
      ],
      "source": [
        "#Setting up the environment\n",
        "from gym.envs.toy_text.taxi import TaxiEnv\n",
        "env = TaxiEnv(render_mode = \"ansi\")\n",
        "\n",
        "env.reset()\n",
        "\n",
        "#Current State\n",
        "print(env.s)\n",
        "\n",
        "\n",
        "print (\"Number of states:\", env.observation_space.n)\n",
        "\n",
        "# Primitive Actions\n",
        "action = [\"up\", \"right\", \"down\", \"left\"]\n",
        "#correspond to [0,1,2,3] that's actually passed to the environment\n",
        "\n",
        "# either go left, up, down or right\n",
        "print (\"Number of actions that an agent can take:\", env.action_space.n)\n",
        "\n",
        "# Example Transitions\n",
        "rnd_action = random.randint(0, 3)\n",
        "print (\"Action taken:\", action[rnd_action])\n",
        "next_state, reward, is_terminal, _, t_prob = env.step(rnd_action)\n",
        "print (\"Transition probability:\", t_prob)\n",
        "print (\"Next state:\", next_state)\n",
        "print (\"Reward recieved:\", reward)\n",
        "print (\"Terminal state:\", is_terminal)"
      ]
    },
    {
      "cell_type": "code",
      "source": [
        "env.reset()\n",
        "print(env.s)\n",
        "print(list(env.decode(env.s)))\n",
        "print(*env.render())"
      ],
      "metadata": {
        "colab": {
          "base_uri": "https://localhost:8080/"
        },
        "id": "e1VbYjaHOMAJ",
        "outputId": "3b80a6fe-f233-4a4c-e35b-8d2b63040dab"
      },
      "execution_count": 3,
      "outputs": [
        {
          "output_type": "stream",
          "name": "stdout",
          "text": [
            "274\n",
            "[2, 3, 3, 2]\n",
            "+---------+\n",
            "|R: | : :G|\n",
            "| : | : : |\n",
            "| : : :\u001b[43m \u001b[0m: |\n",
            "| | : | : |\n",
            "|\u001b[35mY\u001b[0m| : |\u001b[34;1mB\u001b[0m: |\n",
            "+---------+\n",
            "\n",
            "\n"
          ]
        }
      ]
    },
    {
      "cell_type": "markdown",
      "metadata": {
        "id": "apuaOxavDXus"
      },
      "source": [
        "#Using R, Y, B, G as options\n",
        "\n"
      ]
    },
    {
      "cell_type": "code",
      "execution_count": 4,
      "metadata": {
        "id": "g4MRC1p2DZbp",
        "colab": {
          "base_uri": "https://localhost:8080/",
          "height": 36
        },
        "outputId": "9711455f-2c4d-4561-bfb1-9958fb3f4375"
      },
      "outputs": [
        {
          "output_type": "execute_result",
          "data": {
            "text/plain": [
              "'\\nNow the new action space will contain\\nPrimitive Actions: [\"up\", \"right\", \"down\", \"left\"]\\nOptions: [\"Away\",\"Close\"]\\nTotal Actions :[\"up\", \"right\", \"down\", \"left\", \"Red\", \"Yelow\", \"Blue\", \"Green\"]\\nCorresponding to [0,1,2,3,4,5]\\n'"
            ],
            "application/vnd.google.colaboratory.intrinsic+json": {
              "type": "string"
            }
          },
          "metadata": {},
          "execution_count": 4
        }
      ],
      "source": [
        "# We are defining two more options here\n",
        "def Blue(env, state):\n",
        "    r, c, p, d  = list(env.decode(state))\n",
        "    optdone = False\n",
        "    optaction = 0\n",
        "    if r == 4 and c == 3:\n",
        "      optdone = True\n",
        "    if r < 2:\n",
        "      optaction = 0\n",
        "    elif c < 3:\n",
        "      if r==2:\n",
        "        optaction = 2\n",
        "      else:\n",
        "        optaction = 1\n",
        "    elif c == 4 :\n",
        "      optaction = 3\n",
        "    elif c == 3 and r < 4:\n",
        "      optaction = 0\n",
        "\n",
        "    if p == 3:\n",
        "      optction = 4\n",
        "    if d == 3:\n",
        "      optaction == 5\n",
        "\n",
        "    return [optaction, optdone]\n",
        "\n",
        "def Red(env, state):\n",
        "    r, c, p, d = list(env.decode(state))\n",
        "    optdone = False\n",
        "    optaction = 1\n",
        "    if r == 0 and c == 0:\n",
        "      optdone = True\n",
        "    if r > 2:\n",
        "      optaction = 1\n",
        "    elif c > 1:\n",
        "      if r ==2:\n",
        "        optaction = 3\n",
        "      else :\n",
        "        optaction = 0\n",
        "    elif c > 0 :\n",
        "      optaction = 3\n",
        "    elif  r > 0:\n",
        "      optaction = 1\n",
        "\n",
        "    if p == 0:\n",
        "      optction = 4\n",
        "    if d == 0:\n",
        "      optaction == 5\n",
        "\n",
        "    return [optaction, optdone]\n",
        "\n",
        "def Yellow(env, state):\n",
        "    r, c, p, d  = list(env.decode(state))\n",
        "    optdone = False\n",
        "    optaction = 0\n",
        "    if r == 4 and c == 0:\n",
        "      optdone = True\n",
        "    if r < 2:\n",
        "      optaction = 0\n",
        "    elif c > 0:\n",
        "      if r ==2:\n",
        "        optaction = 3\n",
        "      else :\n",
        "        optaction = 1\n",
        "    elif c == 0:\n",
        "      optaction = 0\n",
        "\n",
        "    if p == 2:\n",
        "      optction = 4\n",
        "    if d == 2:\n",
        "      optaction == 5\n",
        "\n",
        "    return [optaction, optdone]\n",
        "\n",
        "def Green(env, state):\n",
        "    r, c, p, d  = list(env.decode(state))\n",
        "    optdone = False\n",
        "    optaction = 1\n",
        "    if r == 0 and c == 4:\n",
        "      optdone = True\n",
        "    if r > 2:\n",
        "      optaction = 1\n",
        "    elif c < 2:\n",
        "      if r==2:\n",
        "        optaction = 2\n",
        "      else :\n",
        "        optaction = 0\n",
        "    elif c < 4 :\n",
        "      optaction = 2\n",
        "    elif r > 0:\n",
        "      optaction = 1\n",
        "\n",
        "    if p == 1:\n",
        "      optction = 4\n",
        "    if d == 1:\n",
        "      optaction == 5\n",
        "\n",
        "    return [optaction, optdone]\n",
        "\n",
        "\n",
        "\n",
        "\n",
        "'''\n",
        "Now the new action space will contain\n",
        "Primitive Actions: [\"North\", \"South\", \"East\", \"West\", \"Pickup\", \"Dropoff\"]\n",
        "Options: [\"Red\",\"Yellow\", \"Blue\", \"Green\"]\n",
        "Total Actions :[\"North\", \"South\", \"East\", \"West\", \"Pickup\", \"Dropoff\", \"Red\", \"Yelow\", \"Blue\", \"Green\"]\n",
        "Corresponding to [0,1,2,3,4,5,6,7,8,9]\n",
        "'''"
      ]
    },
    {
      "cell_type": "markdown",
      "metadata": {
        "id": "N8VJYkqoLqlO"
      },
      "source": [
        "## SMDP Q Learning"
      ]
    },
    {
      "cell_type": "code",
      "source": [
        "# TODO: epsilon-greedy action selection function\n",
        "def egreedy_policy(q_values,state,epsilon, episode):\n",
        "    if not q_values[state].any(): # TODO: eps greedy condition\n",
        "        return random.randint(0, 9)\n",
        "    else:\n",
        "        if(np.random.rand()<epsilon):\n",
        "            return random.randint(0, 9)\n",
        "        else:\n",
        "            return np.argmax(q_values[state])"
      ],
      "metadata": {
        "id": "NpPC419k8JgI"
      },
      "execution_count": 18,
      "outputs": []
    },
    {
      "cell_type": "code",
      "source": [
        "results = {}"
      ],
      "metadata": {
        "id": "a8mw53Hfob6M"
      },
      "execution_count": 6,
      "outputs": []
    },
    {
      "cell_type": "code",
      "execution_count": null,
      "metadata": {
        "id": "ok_5eQM7OCTj"
      },
      "outputs": [],
      "source": [
        "#### SMDP Q-Learning\n",
        "\n",
        "def SMDP_Q_learning(env, episodes = 1000, gamma = 0.99, alpha = 0.5, epsilon = 0.1):\n",
        "    # Add parameters you might need here\n",
        "    gamma = gamma\n",
        "    alpha = alpha\n",
        "    epsilon = epsilon\n",
        "    rewards =  []\n",
        "    steps_in_episodes = []\n",
        "\n",
        "    #Q-Table: (States x Actions) === (env.ns(500) x total actions(10))\n",
        "    q_values_SMDP = np.zeros((env.observation_space.n,env.action_space.n+4))\n",
        "\n",
        "    for j in range(episodes):\n",
        "        state = env.reset()\n",
        "        done = False\n",
        "\n",
        "        # While episode is not over\n",
        "        r = 0\n",
        "        steps = 0\n",
        "        while not done:\n",
        "\n",
        "            # Choose action\n",
        "            action = egreedy_policy(q_values_SMDP, state, epsilon, j)\n",
        "            # Checking if primitive action\n",
        "            if action < 6:\n",
        "                # Perform regular Q-Learning update for state-action pair\n",
        "                next_state, reward, done, _, _ = env.step(action)\n",
        "                q_values_SMDP[state, action] = q_values_SMDP[state, action] + alpha*(reward + gamma*np.max(q_values_SMDP[next_state]) - q_values_SMDP[state, action])\n",
        "                steps+=1\n",
        "                r+=reward\n",
        "\n",
        "            # Checking if action chosen is an option\n",
        "            if action == 6: # action => Red option\n",
        "                i = 0\n",
        "                reward_bar = 0\n",
        "                start_state = state\n",
        "                optdone = False\n",
        "                while (optdone == False):\n",
        "\n",
        "                    optact,optdone = Red(env,state)\n",
        "                    next_state, reward, done,_, t_prob = env.step(optact)\n",
        "\n",
        "\n",
        "                    reward_bar += reward*gamma**i\n",
        "                    state = next_state\n",
        "                    i+=1\n",
        "                    steps+=1\n",
        "                    r+=reward\n",
        "                q_values_SMDP[start_state, action] += alpha*(reward_bar + gamma**i*np.max(q_values_SMDP[next_state]) - q_values_SMDP[start_state, action])\n",
        "\n",
        "\n",
        "            if action == 7: # action => Yellow option\n",
        "                i = 0\n",
        "                reward_bar = 0\n",
        "                start_state = state\n",
        "                optdone = False\n",
        "                while (optdone == False):\n",
        "\n",
        "                    optact,optdone = Yellow(env,state)\n",
        "                    next_state, reward, done,_, t_prob = env.step(optact)\n",
        "\n",
        "\n",
        "                    reward_bar += reward*gamma**i\n",
        "                    state = next_state\n",
        "                    i+=1\n",
        "                    steps+=1\n",
        "                    r+=reward\n",
        "                q_values_SMDP[start_state, action] += alpha*(reward_bar + gamma**i*np.max(q_values_SMDP[next_state]) - q_values_SMDP[start_state, action])\n",
        "\n",
        "            if action == 8:# action => Blue option\n",
        "                  i = 0\n",
        "                  reward_bar = 0\n",
        "                  start_state = state\n",
        "                  optdone = False\n",
        "                  while (optdone == False):\n",
        "\n",
        "                      optact,optdone = Blue(env,state)\n",
        "                      next_state, reward, done,_, t_prob = env.step(optact)\n",
        "\n",
        "                      reward_bar += reward*gamma**i\n",
        "                      state = next_state\n",
        "                      i+=1\n",
        "                      steps+=1\n",
        "                      r+=reward\n",
        "                  q_values_SMDP[start_state, action] += alpha*(reward_bar + gamma**i*np.max(q_values_SMDP[next_state]) - q_values_SMDP[start_state, action])\n",
        "\n",
        "            if action == 9 :# action => Green option\n",
        "                  i = 0\n",
        "                  reward_bar = 0\n",
        "                  start_state = state\n",
        "                  optdone = False\n",
        "                  while (optdone == False):\n",
        "\n",
        "                      optact,optdone = Green(env,state)\n",
        "                      next_state, reward, done,_, t_prob = env.step(optact)\n",
        "\n",
        "                      reward_bar += reward*gamma**i\n",
        "                      state = next_state\n",
        "                      i+=1\n",
        "                      steps+=1\n",
        "                      r+=reward\n",
        "                  q_values_SMDP[start_state, action] += alpha*(reward_bar + gamma**i*np.max(q_values_SMDP[next_state]) - q_values_SMDP[start_state, action])\n",
        "\n",
        "\n",
        "            state = next_state\n",
        "        steps_in_episodes.append(steps)\n",
        "        rewards.append(r)\n",
        "\n",
        "    return q_values_SMDP, np.array(steps_in_episodes), np.array(rewards),\n",
        "\n",
        "\n",
        "runs = 100\n",
        "episodes = 1000\n",
        "steps = np.zeros((episodes,))\n",
        "rewards = np.zeros((episodes,))\n",
        "q_values_SMDP = np.zeros((env.observation_space.n,env.action_space.n+4))\n",
        "\n",
        "for i in tqdm(range(runs), ncols = 100) :\n",
        "    q_values, step, reward = SMDP_Q_learning(env)\n",
        "    q_values_SMDP+=q_values/runs\n",
        "    steps+=step/runs\n",
        "    rewards+=reward/runs"
      ]
    },
    {
      "cell_type": "code",
      "source": [
        "results[\"SMDP\"] = {\"rewards\" : rewards, \"steps\" : steps, \"q_values\" : q_values_SMDP}"
      ],
      "metadata": {
        "id": "TUi3S0KPoeZp"
      },
      "execution_count": 70,
      "outputs": []
    },
    {
      "cell_type": "code",
      "source": [
        "from IPython.display import clear_output\n",
        "from time import sleep\n",
        "\n",
        "def execute_option(option, state, steps, q_values_SMDP):\n",
        "      i = 0\n",
        "      reward_bar = 0\n",
        "      start_state = state\n",
        "      optdone = False\n",
        "      tot_reward= 0\n",
        "      while (optdone == False):\n",
        "          clear_output(wait=True)\n",
        "          optact,optdone = option(env,state)\n",
        "          next_state, reward, done,_, t_prob = env.step(optact)\n",
        "\n",
        "          tot_reward += reward\n",
        "          state = next_state\n",
        "          i+=1\n",
        "          steps+=1\n",
        "\n",
        "      return tot_reward, steps, next_state\n",
        "\n",
        "def run_episode(env, q_values_SMDP):\n",
        "    state = env.reset()\n",
        "    done = False\n",
        "\n",
        "    # While episode is not over\n",
        "    r = 0\n",
        "    steps = 0\n",
        "    print(env.render()[-1])\n",
        "    update = np.zeros_like(q_values_SMDP)\n",
        "\n",
        "    while not done:\n",
        "\n",
        "      # Choose action\n",
        "      clear_output(wait=True)\n",
        "      action = np.argmax(q_values_SMDP[state])\n",
        "      # Checking if primitive action\n",
        "      if action < 6:\n",
        "          # Perform regular Q-Learning update for state-action pair\n",
        "          next_state, reward, done, _, _ = env.step(action)\n",
        "\n",
        "      # Checking if action chosen is an option\n",
        "      if action == 6: # action => Red option\n",
        "          reward, steps, next_state,  = execute_option(Red, state, steps, q_values_SMDP)\n",
        "\n",
        "      if action == 7: # action => Yellow option\n",
        "          reward, steps, next_state = execute_option(Yellow, state, steps, q_values_SMDP)\n",
        "\n",
        "      if action == 8:# action => Blue option\n",
        "            reward, steps, next_state = execute_option(Blue, state, steps, q_values_SMDP)\n",
        "\n",
        "      if action == 9 :# action => Green option\n",
        "            reward, steps, next_state = execute_option(Green, state, steps, q_values_SMDP)\n",
        "\n",
        "      steps+=1\n",
        "      r+=reward\n",
        "      state = next_state\n",
        "      # update_frequency[state, action] +=1\n",
        "      print(env.render()[-1])\n",
        "      print(action)\n",
        "      sleep(1)\n",
        "\n",
        "    print(steps, r)\n",
        "\n",
        "run_episode(env, q_values_SMDP)"
      ],
      "metadata": {
        "colab": {
          "base_uri": "https://localhost:8080/"
        },
        "id": "V3wRzaFrxyJ4",
        "outputId": "f499a5b0-1276-4339-aaeb-0d1132865de7"
      },
      "execution_count": 54,
      "outputs": [
        {
          "output_type": "stream",
          "name": "stdout",
          "text": [
            "+---------+\n",
            "|R: | : :G|\n",
            "| : | : : |\n",
            "| : : : : |\n",
            "| | : | : |\n",
            "|\u001b[35m\u001b[34;1m\u001b[43mY\u001b[0m\u001b[0m\u001b[0m| : |B: |\n",
            "+---------+\n",
            "  (Dropoff)\n",
            "\n",
            "5\n",
            "18 5\n"
          ]
        }
      ]
    },
    {
      "cell_type": "code",
      "source": [
        "def plot_Q(q_values, destination):\n",
        "    options = [\"South\", \"North\", \"East\", \"West\", \"Pickup\", \"Dropoff\", \"Red\", \"Yellow\", \"Blue\", \"Green\"]\n",
        "    passanger_location = [\"Red\", \"Green\", \"Yellow\", \"Blue\", \"In Taxi\"]\n",
        "    destinations = {\"Red\":0, \"Green\":1, \"Yellow\":2, \"Blue\":3}\n",
        "    Q = np.zeros((5,5,5,4,10))\n",
        "    plt.figure(figsize=(16,16))\n",
        "    for i in range(500):\n",
        "      r, c, p, d = list(env.decode(i))\n",
        "      Q[r, c, p, d, :]=q_values_SMDP[i, :]\n",
        "\n",
        "    i = destinations[destination]\n",
        "    for j in range(5):\n",
        "      if i == j:\n",
        "        continue\n",
        "      if j < i:\n",
        "        plt.subplot(2, 2, j+1)\n",
        "      else :\n",
        "        plt.subplot(2, 2, j)\n",
        "      plt.pcolor(Q[:,:,j,i,:].max(-1), edgecolors='k', linewidths=2)\n",
        "      # plt.invert_xaxis()\n",
        "      # print(f\"Passanger location is {passanger_location[j]} and Destination is {destination[i]}\")\n",
        "      if j != 4:\n",
        "        plt.title(f\"Pickup point is {passanger_location[j]} and Destination is {destination}\")\n",
        "      else :\n",
        "        plt.title(f\"Passanger is inside taxi and Destination is {destination}\")\n",
        "      plt.colorbar()\n",
        "      plt.ylim(5, 0)\n",
        "      plt.xlim(0, 5)\n",
        "      for k in range(5):\n",
        "        for l in range(5):\n",
        "            t = options[np.argmax(Q[l, k, j, i, :])][0]\n",
        "            plt.text(k + 0.5, l + 0.5, t, ha='center', va='center', color='red', size='large')\n",
        "\n",
        "\n",
        "    plt.show()\n",
        "\n",
        "plot_Q(q_values_SMDP, \"Green\")"
      ],
      "metadata": {
        "id": "dQhKvIM5f47R"
      },
      "execution_count": null,
      "outputs": []
    },
    {
      "cell_type": "markdown",
      "metadata": {
        "id": "3SQFbRCHWQyO"
      },
      "source": [
        "## Intra Option Q Learning\n",
        "\n"
      ]
    },
    {
      "cell_type": "code",
      "source": [
        "\n",
        "def Intra_option_Q_learning(env, episodes = 1000, gamma = 0.99, alpha = 0.5, epsilon = 0.1):\n",
        "    # Add parameters you might need here\n",
        "    gamma = gamma\n",
        "    alpha = alpha\n",
        "    epsilon = epsilon\n",
        "    rewards =  []\n",
        "    steps_in_episodes = []\n",
        "\n",
        "    #Q-Table: (States x Actions) === (env.ns(500) x total actions(10))\n",
        "    q_values_intra = np.zeros((env.observation_space.n,env.action_space.n+4))\n",
        "\n",
        "    for j in range(episodes):\n",
        "        state = env.reset()\n",
        "        done = False\n",
        "\n",
        "        # While episode is not over\n",
        "        r = 0\n",
        "        steps = 0\n",
        "        while not done:\n",
        "\n",
        "            # Choose action\n",
        "            action = egreedy_policy(q_values_intra, state, epsilon, j)\n",
        "            # Checking if primitive action\n",
        "            if action < 6:\n",
        "                # Perform regular Q-Learning update for state-action pair\n",
        "                next_state, reward, done, _, _ = env.step(action)\n",
        "                q_values_intra[state, action] = q_values_intra[state, action] + alpha*(reward + gamma*(q_values_intra[next_state][action]) - q_values_intra[state, action])\n",
        "                steps+=1\n",
        "                r+=reward\n",
        "\n",
        "                options_dict = {6: Red, 7:Yellow, 8:Blue, 9:Green}\n",
        "                for k in range(6, 10):#iterating over options\n",
        "                    optact, optdone = options_dict[k](env, state)\n",
        "                    if optact == action :\n",
        "                        beta = 1 if optdone else 0\n",
        "                        u = (1-beta)*q_values_intra[next_state, k] + beta*np.max(q_values_intra[next_state])\n",
        "                        q_values_intra[state, k] = (1-alpha)*q_values_intra[state, k]+alpha*(reward+gamma*u)\n",
        "\n",
        "\n",
        "            # Checking if action chosen is an option\n",
        "            if action == 6: # action => Red option\n",
        "                i = 0\n",
        "                reward_bar = 0\n",
        "                start_state = state\n",
        "                optdone = False\n",
        "                while (optdone == False):\n",
        "\n",
        "                    optact,optdone = Red(env,state)\n",
        "                    beta = 1 if optdone else 0\n",
        "                    next_state, reward, done,_, t_prob = env.step(optact)\n",
        "                    u = (1-beta)*q_values_intra[next_state, action] + beta*np.max(q_values_intra[next_state])\n",
        "                    q_values_intra[state, action] = (1-alpha)*q_values_intra[state, action]+alpha*(reward+gamma*u)\n",
        "                    state = next_state\n",
        "                    i+=1\n",
        "                    steps+=1\n",
        "                    r+=reward\n",
        "\n",
        "\n",
        "            if action == 7: # action => Yellow option\n",
        "                i = 0\n",
        "                reward_bar = 0\n",
        "                start_state = state\n",
        "                optdone = False\n",
        "                while (optdone == False):\n",
        "\n",
        "                    optact,optdone = Yellow(env,state)\n",
        "                    beta = 1 if optdone else 0\n",
        "                    next_state, reward, done,_, t_prob = env.step(optact)\n",
        "                    u = (1-beta)*q_values_intra[next_state, action] + beta*np.max(q_values_intra[next_state])\n",
        "                    q_values_intra[state, action] = (1-alpha)*q_values_intra[state, action]+alpha*(reward+gamma*u)\n",
        "                    state = next_state\n",
        "                    i+=1\n",
        "                    steps+=1\n",
        "                    r+=reward\n",
        "\n",
        "            if action == 8:# action => Blue option\n",
        "                  i = 0\n",
        "                  reward_bar = 0\n",
        "                  start_state = state\n",
        "                  optdone = False\n",
        "                  while (optdone == False):\n",
        "\n",
        "                      optact,optdone = Blue(env,state)\n",
        "                      beta = 1 if optdone else 0\n",
        "                      next_state, reward, done,_, t_prob = env.step(optact)\n",
        "\n",
        "                      u = (1-beta)*q_values_intra[next_state, action] + beta*np.max(q_values_intra[next_state])\n",
        "                      q_values_intra[state, action] = (1-alpha)*q_values_intra[state, action]+alpha*(reward+gamma*u)\n",
        "                      state = next_state\n",
        "                      i+=1\n",
        "                      steps+=1\n",
        "                      r+=reward\n",
        "\n",
        "            if action == 9 :# action => Green option\n",
        "                  i = 0\n",
        "                  reward_bar = 0\n",
        "                  start_state = state\n",
        "                  optdone = False\n",
        "                  while (optdone == False):\n",
        "\n",
        "                      optact,optdone = Green(env,state)\n",
        "                      beta = 1 if optdone else 0\n",
        "                      next_state, reward, done,_, t_prob = env.step(optact)\n",
        "\n",
        "                      u = (1-beta)*q_values_intra[next_state, action] + beta*np.max(q_values_intra[next_state])\n",
        "                      q_values_intra[state, action] = (1-alpha)*q_values_intra[state, action]+alpha*(reward+gamma*u)\n",
        "                      state = next_state\n",
        "                      i+=1\n",
        "                      steps+=1\n",
        "                      r+=reward\n",
        "\n",
        "\n",
        "            state = next_state\n",
        "        steps_in_episodes.append(steps)\n",
        "        rewards.append(r)\n",
        "\n",
        "    return q_values_intra, np.array(steps_in_episodes), np.array(rewards),\n",
        "\n",
        "\n",
        "runs = 100\n",
        "episodes = 1000\n",
        "steps = np.zeros((episodes,))\n",
        "rewards = np.zeros((episodes,))\n",
        "q_values_intra = np.zeros((env.observation_space.n,env.action_space.n+4))\n",
        "\n",
        "for i in tqdm(range(runs), ncols = 100) :\n",
        "    q_values, step, reward = Intra_option_Q_learning(env)\n",
        "    q_values_intra+=q_values/runs\n",
        "    steps+=step/runs\n",
        "    rewards+=reward/runs"
      ],
      "metadata": {
        "id": "k41FCied2hUB"
      },
      "execution_count": null,
      "outputs": []
    },
    {
      "cell_type": "code",
      "source": [
        "results[\"Intra_options\"] = {\"rewards\" : rewards, \"steps\" : steps, \"q_values\" : q_values_intra}"
      ],
      "metadata": {
        "id": "gcblN3Ruosev"
      },
      "execution_count": 74,
      "outputs": []
    },
    {
      "cell_type": "code",
      "source": [
        "run_episode(env, q_values_intra)"
      ],
      "metadata": {
        "colab": {
          "base_uri": "https://localhost:8080/"
        },
        "id": "iru8voxv8j7I",
        "outputId": "d51773ae-8f51-49f4-a1e7-4fc5281518ee"
      },
      "execution_count": 73,
      "outputs": [
        {
          "output_type": "stream",
          "name": "stdout",
          "text": [
            "+---------+\n",
            "|R: | : :\u001b[35m\u001b[34;1m\u001b[43mG\u001b[0m\u001b[0m\u001b[0m|\n",
            "| : | : : |\n",
            "| : : : : |\n",
            "| | : | : |\n",
            "|Y| : |B: |\n",
            "+---------+\n",
            "  (Dropoff)\n",
            "\n",
            "5\n",
            "17 5\n"
          ]
        }
      ]
    },
    {
      "cell_type": "code",
      "source": [
        "plot_Q(q_values_intra, \"Green\")"
      ],
      "metadata": {
        "id": "qAQ23bO57Yd0"
      },
      "execution_count": null,
      "outputs": []
    },
    {
      "cell_type": "markdown",
      "source": [
        "#Using Alternate Options"
      ],
      "metadata": {
        "id": "quN7CaWC8ZXY"
      }
    },
    {
      "cell_type": "markdown",
      "source": [
        "We create two options, Pull and Place which are built over previous options Red, Yellow, Blue and Green.\n",
        "- Pull : Will pick up passanger from any of the four designated location.\n",
        "- Place : Will drop passanger to any of the four designated location."
      ],
      "metadata": {
        "id": "Fy-Z6xe3qTzY"
      }
    },
    {
      "cell_type": "code",
      "source": [
        "def Pull(env, state):\n",
        "    r, c, p, d = list(env.decode(state))\n",
        "    optdone = False\n",
        "    optaction = 1\n",
        "    if p == 4:\n",
        "       optdone = True\n",
        "    elif  p == 0:\n",
        "      [optaction, optdone] = Red(env, state)\n",
        "    elif p == 1:\n",
        "      [optaction, optdone] = Green(env, state)\n",
        "    elif p == 2:\n",
        "      [optaction, optdone] = Yellow(env, state)\n",
        "    elif p == 3:\n",
        "      [optaction, optdone] = Blue(env, state)\n",
        "\n",
        "    return [optaction, optdone]\n",
        "\n",
        "def Place(env, state):\n",
        "    r, c, p, d = list(env.decode(state))\n",
        "    optdone = False\n",
        "    optaction = 1\n",
        "    if p == d:\n",
        "       optdone = True\n",
        "    elif  d == 0:\n",
        "      [optaction, optdone] = Red(env, state)\n",
        "    elif d == 1:\n",
        "      [optaction, optdone] = Green(env, state)\n",
        "    elif d == 2:\n",
        "      [optaction, optdone] = Yellow(env, state)\n",
        "    elif d == 3:\n",
        "      [optaction, optdone] = Blue(env, state)\n",
        "\n",
        "    return [optaction, optdone]"
      ],
      "metadata": {
        "id": "_lNMMylg8Ypr"
      },
      "execution_count": 79,
      "outputs": []
    },
    {
      "cell_type": "code",
      "source": [
        "# TODO: epsilon-greedy action selection function\n",
        "def egreedy_policy(q_values,state,epsilon, episode):\n",
        "    if not q_values[state].any(): # TODO: eps greedy condition\n",
        "        return random.randint(0, 7)\n",
        "    else:\n",
        "        if(np.random.rand()<epsilon):\n",
        "            return random.randint(0, 7)\n",
        "        else:\n",
        "            return np.argmax(q_values[state])"
      ],
      "metadata": {
        "id": "4WyxKamIr86Y"
      },
      "execution_count": 80,
      "outputs": []
    },
    {
      "cell_type": "code",
      "source": [
        "results_alternate = {}"
      ],
      "metadata": {
        "id": "vVJDs5mFsCrM"
      },
      "execution_count": 81,
      "outputs": []
    },
    {
      "cell_type": "markdown",
      "source": [
        "##SMDP Q Learning"
      ],
      "metadata": {
        "id": "88fYVvBusIMF"
      }
    },
    {
      "cell_type": "code",
      "source": [
        "#### SMDP Q-Learning\n",
        "\n",
        "def SMDP_Q_learning(env, episodes = 1000, gamma = 0.99, alpha = 0.5, epsilon = 0.1):\n",
        "    # Add parameters you might need here\n",
        "    gamma = gamma\n",
        "    alpha = alpha\n",
        "    epsilon = epsilon\n",
        "    rewards =  []\n",
        "    steps_in_episodes = []\n",
        "\n",
        "    #Q-Table: (States x Actions) === (env.ns(500) x total actions(10))\n",
        "    q_values_SMDP = np.zeros((env.observation_space.n,env.action_space.n+2))\n",
        "\n",
        "    for j in range(episodes):\n",
        "        state = env.reset()\n",
        "        done = False\n",
        "\n",
        "        # While episode is not over\n",
        "        r = 0\n",
        "        steps = 0\n",
        "        while not done:\n",
        "\n",
        "            # Choose action\n",
        "            action = egreedy_policy(q_values_SMDP, state, epsilon, j)\n",
        "            # Checking if primitive action\n",
        "            if action < 6:\n",
        "                # Perform regular Q-Learning update for state-action pair\n",
        "                next_state, reward, done, _, _ = env.step(action)\n",
        "                q_values_SMDP[state, action] = q_values_SMDP[state, action] + alpha*(reward + gamma*np.max(q_values_SMDP[next_state]) - q_values_SMDP[state, action])\n",
        "                steps+=1\n",
        "                r+=reward\n",
        "\n",
        "            # Checking if action chosen is an option\n",
        "            if action == 6: # action => Pull option\n",
        "                i = 0\n",
        "                reward_bar = 0\n",
        "                start_state = state\n",
        "                optdone = False\n",
        "                while (optdone == False):\n",
        "\n",
        "                    optact,optdone = Pull(env,state)\n",
        "                    next_state, reward, done,_, t_prob = env.step(optact)\n",
        "\n",
        "\n",
        "                    reward_bar += reward*gamma**i\n",
        "                    state = next_state\n",
        "                    i+=1\n",
        "                    steps+=1\n",
        "                    r+=reward\n",
        "                q_values_SMDP[start_state, action] += alpha*(reward_bar + gamma**i*np.max(q_values_SMDP[next_state]) - q_values_SMDP[start_state, action])\n",
        "\n",
        "\n",
        "            if action == 7: # action => Place option\n",
        "                i = 0\n",
        "                reward_bar = 0\n",
        "                start_state = state\n",
        "                optdone = False\n",
        "                while (optdone == False):\n",
        "\n",
        "                    optact,optdone = Place(env,state)\n",
        "                    next_state, reward, done,_, t_prob = env.step(optact)\n",
        "\n",
        "\n",
        "                    reward_bar += reward*gamma**i\n",
        "                    state = next_state\n",
        "                    i+=1\n",
        "                    steps+=1\n",
        "                    r+=reward\n",
        "                q_values_SMDP[start_state, action] += alpha*(reward_bar + gamma**i*np.max(q_values_SMDP[next_state]) - q_values_SMDP[start_state, action])\n",
        "\n",
        "\n",
        "            state = next_state\n",
        "        steps_in_episodes.append(steps)\n",
        "        rewards.append(r)\n",
        "\n",
        "    return q_values_SMDP, np.array(steps_in_episodes), np.array(rewards),\n",
        "\n",
        "\n",
        "runs = 100\n",
        "episodes = 1000\n",
        "steps = np.zeros((episodes,))\n",
        "rewards = np.zeros((episodes,))\n",
        "q_values_SMDP = np.zeros((env.observation_space.n,env.action_space.n+2))\n",
        "\n",
        "for i in tqdm(range(runs), ncols = 100) :\n",
        "    q_values, step, reward = SMDP_Q_learning(env)\n",
        "    q_values_SMDP+=q_values/runs\n",
        "    steps+=step/runs\n",
        "    rewards+=reward/runs"
      ],
      "metadata": {
        "id": "PoK586OVsElJ"
      },
      "execution_count": null,
      "outputs": []
    },
    {
      "cell_type": "code",
      "source": [
        "results_alternate[\"SMDP\"] = {\"rewards\" : rewards, \"steps\" : steps, \"q_values\" : q_values_SMDP}"
      ],
      "metadata": {
        "id": "epAQW4ptuIEc"
      },
      "execution_count": null,
      "outputs": []
    },
    {
      "cell_type": "code",
      "source": [
        "from IPython.display import clear_output\n",
        "from time import sleep\n",
        "\n",
        "def execute_option(option, state, steps, q_values_SMDP):\n",
        "      i = 0\n",
        "      reward_bar = 0\n",
        "      start_state = state\n",
        "      optdone = False\n",
        "      tot_reward= 0\n",
        "      while (optdone == False):\n",
        "          clear_output(wait=True)\n",
        "          optact,optdone = option(env,state)\n",
        "          next_state, reward, done,_, t_prob = env.step(optact)\n",
        "\n",
        "          tot_reward += reward\n",
        "          state = next_state\n",
        "          i+=1\n",
        "          steps+=1\n",
        "\n",
        "      return tot_reward, steps, next_state\n",
        "\n",
        "def run_episode(env, q_values_SMDP):\n",
        "    state = env.reset()\n",
        "    done = False\n",
        "\n",
        "    # While episode is not over\n",
        "    r = 0\n",
        "    steps = 0\n",
        "    print(env.render()[-1])\n",
        "    update = np.zeros_like(q_values_SMDP)\n",
        "\n",
        "    while not done:\n",
        "\n",
        "      # Choose action\n",
        "      clear_output(wait=True)\n",
        "      action = np.argmax(q_values_SMDP[state])\n",
        "      # Checking if primitive action\n",
        "      if action < 6:\n",
        "          # Perform regular Q-Learning update for state-action pair\n",
        "          next_state, reward, done, _, _ = env.step(action)\n",
        "\n",
        "      # Checking if action chosen is an option\n",
        "      if action == 6: # action => Red option\n",
        "          reward, steps, next_state,  = execute_option(Pull, state, steps, q_values_SMDP)\n",
        "\n",
        "      if action == 7: # action => Yellow option\n",
        "          reward, steps, next_state = execute_option(Place, state, steps, q_values_SMDP)\n",
        "\n",
        "      steps+=1\n",
        "      r+=reward\n",
        "      state = next_state\n",
        "      # update_frequency[state, action] +=1\n",
        "      print(env.render()[-1])\n",
        "      print(action)\n",
        "      sleep(1)\n",
        "\n",
        "    print(steps, r)\n",
        "\n",
        "run_episode(env, q_values_SMDP)"
      ],
      "metadata": {
        "id": "WURZMqKHt-Fd",
        "colab": {
          "base_uri": "https://localhost:8080/"
        },
        "outputId": "01dfe991-32de-4a50-a819-4c595aa688ad"
      },
      "execution_count": 85,
      "outputs": [
        {
          "output_type": "stream",
          "name": "stdout",
          "text": [
            "+---------+\n",
            "|R: | : :\u001b[35m\u001b[34;1m\u001b[43mG\u001b[0m\u001b[0m\u001b[0m|\n",
            "| : | : : |\n",
            "| : : : : |\n",
            "| | : | : |\n",
            "|Y| : |B: |\n",
            "+---------+\n",
            "  (Dropoff)\n",
            "\n",
            "5\n",
            "14 9\n"
          ]
        }
      ]
    },
    {
      "cell_type": "code",
      "source": [
        "def plot_Q(q_values, destination):\n",
        "    options = [\"South\", \"North\", \"East\", \"West\", \"Pickup\", \"Dropoff\", \"Pull\", \"Place\"]\n",
        "    passanger_location = [\"Red\", \"Green\", \"Yellow\", \"Blue\", \"In Taxi\"]\n",
        "    destinations = {\"Red\":0, \"Green\":1, \"Yellow\":2, \"Blue\":3}\n",
        "    Q = np.zeros((5,5,5,4,8))\n",
        "    plt.figure(figsize=(16,16))\n",
        "    for i in range(500):\n",
        "      r, c, p, d = list(env.decode(i))\n",
        "      Q[r, c, p, d, :]=q_values_SMDP[i, :]\n",
        "\n",
        "    i = destinations[destination]\n",
        "    for j in range(5):\n",
        "      if i == j:\n",
        "        continue\n",
        "      if j < i:\n",
        "        # print(i, j, j)\n",
        "        plt.subplot(2, 2, j+1)\n",
        "      else :\n",
        "        plt.subplot(2, 2, j)\n",
        "      plt.pcolor(Q[:,:,j,i,:].max(-1), edgecolors='k', linewidths=2)\n",
        "      if j != 4:\n",
        "        plt.title(f\"Pickup point is {passanger_location[j]} and Destination is {destination}\")\n",
        "      else :\n",
        "        plt.title(f\"Passanger is inside taxi and Destination is {destination}\")\n",
        "      plt.colorbar()\n",
        "      plt.ylim(5, 0)\n",
        "      plt.xlim(0, 5)\n",
        "      for k in range(5):\n",
        "        for l in range(5):\n",
        "            opt = np.argmax(Q[l, k, j, i, :])\n",
        "            t = options[opt][0:2]\n",
        "            if int(opt) < 4 or int(opt) == 5:\n",
        "              t = t[0]\n",
        "            plt.text(k + 0.5, l + 0.5, t, ha='center', va='center', color='red', size='large')\n",
        "\n",
        "\n",
        "    plt.show()\n",
        "\n",
        "plot_Q(q_values_SMDP, \"Green\")"
      ],
      "metadata": {
        "id": "vuFhPmYhuRVR",
        "colab": {
          "base_uri": "https://localhost:8080/",
          "height": 1000
        },
        "outputId": "7124afed-0027-4ab1-abfd-1509b2f10b4d"
      },
      "execution_count": 90,
      "outputs": [
        {
          "output_type": "display_data",
          "data": {
            "text/plain": [
              "<Figure size 1600x1600 with 8 Axes>"
            ],
            "image/png": "[encoded data removed]"
          },
          "metadata": {}
        }
      ]
    },
    {
      "cell_type": "markdown",
      "source": [
        "##Intra Option Q Learning"
      ],
      "metadata": {
        "id": "hBWJXBMbuxih"
      }
    },
    {
      "cell_type": "code",
      "source": [
        "#### SMDP Q-Learning\n",
        "\n",
        "def Intra_option_Q_learning(env, episodes = 1000, gamma = 0.99, alpha = 0.5, epsilon = 0.1):\n",
        "    # Add parameters you might need here\n",
        "    gamma = gamma\n",
        "    alpha = alpha\n",
        "    epsilon = epsilon\n",
        "    rewards =  []\n",
        "    steps_in_episodes = []\n",
        "\n",
        "    #Q-Table: (States x Actions) === (env.ns(500) x total actions(10))\n",
        "    q_values_intra = np.zeros((env.observation_space.n,env.action_space.n+2))\n",
        "\n",
        "    for j in range(episodes):\n",
        "        state = env.reset()\n",
        "        done = False\n",
        "\n",
        "        # While episode is not over\n",
        "        r = 0\n",
        "        steps = 0\n",
        "        while not done:\n",
        "\n",
        "            # Choose action\n",
        "            action = egreedy_policy(q_values_intra, state, epsilon, j)\n",
        "            # Checking if primitive action\n",
        "            if action < 6:\n",
        "                # Perform regular Q-Learning update for state-action pair\n",
        "                next_state, reward, done, _, _ = env.step(action)\n",
        "                q_values_intra[state, action] = q_values_intra[state, action] + alpha*(reward + gamma*(q_values_intra[next_state][action]) - q_values_intra[state, action])\n",
        "                steps+=1\n",
        "                r+=reward\n",
        "\n",
        "                options_dict = {6: Pull, 7:Place}\n",
        "                for k in range(6, 8):#iterating over options\n",
        "                    optact, optdone = options_dict[k](env, state)\n",
        "                    if optact == action :\n",
        "                        beta = 1 if optdone else 0\n",
        "                        u = (1-beta)*q_values_intra[next_state, k] + beta*np.max(q_values_intra[next_state])\n",
        "                        q_values_intra[state, k] = (1-alpha)*q_values_intra[state, k]+alpha*(reward+gamma*u)\n",
        "\n",
        "\n",
        "            # Checking if action chosen is an option\n",
        "            if action == 6: # action => Pull option\n",
        "                i = 0\n",
        "                reward_bar = 0\n",
        "                start_state = state\n",
        "                optdone = False\n",
        "                while (optdone == False):\n",
        "\n",
        "                    optact,optdone = Pull(env,state)\n",
        "                    beta = 1 if optdone else 0\n",
        "                    next_state, reward, done,_, t_prob = env.step(optact)\n",
        "                    u = (1-beta)*q_values_intra[next_state, action] + beta*np.max(q_values_intra[next_state])\n",
        "                    q_values_intra[state, action] = (1-alpha)*q_values_intra[state, action]+alpha*(reward+gamma*u)\n",
        "                    state = next_state\n",
        "                    i+=1\n",
        "                    steps+=1\n",
        "                    r+=reward\n",
        "\n",
        "\n",
        "            if action == 7: # action => Place option\n",
        "                i = 0\n",
        "                reward_bar = 0\n",
        "                start_state = state\n",
        "                optdone = False\n",
        "                while (optdone == False):\n",
        "\n",
        "                    optact,optdone = Place(env,state)\n",
        "                    beta = 1 if optdone else 0\n",
        "                    next_state, reward, done,_, t_prob = env.step(optact)\n",
        "                    u = (1-beta)*q_values_intra[next_state, action] + beta*np.max(q_values_intra[next_state])\n",
        "                    q_values_intra[state, action] = (1-alpha)*q_values_intra[state, action]+alpha*(reward+gamma*u)\n",
        "                    state = next_state\n",
        "                    i+=1\n",
        "                    steps+=1\n",
        "                    r+=reward\n",
        "\n",
        "\n",
        "            state = next_state\n",
        "        steps_in_episodes.append(steps)\n",
        "        rewards.append(r)\n",
        "\n",
        "    return q_values_intra, np.array(steps_in_episodes), np.array(rewards),\n",
        "\n",
        "\n",
        "runs = 100\n",
        "episodes = 1000\n",
        "steps = np.zeros((episodes,))\n",
        "rewards = np.zeros((episodes,))\n",
        "q_values_intra = np.zeros((env.observation_space.n,env.action_space.n+2))\n",
        "\n",
        "for i in tqdm(range(runs), ncols = 100) :\n",
        "    q_values, step, reward = Intra_option_Q_learning(env)\n",
        "    q_values_intra+=q_values/runs\n",
        "    steps+=step/runs\n",
        "    rewards+=reward/runs"
      ],
      "metadata": {
        "id": "vrFTV1-3uxPz"
      },
      "execution_count": null,
      "outputs": []
    },
    {
      "cell_type": "code",
      "source": [
        "results_alternate[\"Intra_options\"] = {\"rewards\" : rewards, \"steps\" : steps, \"q_values\" : q_values_intra}"
      ],
      "metadata": {
        "id": "edQtfsZnvIuf"
      },
      "execution_count": 94,
      "outputs": []
    },
    {
      "cell_type": "code",
      "source": [
        "plot_Q(q_values_intra, \"Green\")"
      ],
      "metadata": {
        "id": "3anwwMyRvOLL"
      },
      "execution_count": null,
      "outputs": []
    }
  ],
  "metadata": {
    "colab": {
      "provenance": []
    },
    "kernelspec": {
      "display_name": "Python 3",
      "name": "python3"
    },
    "language_info": {
      "codemirror_mode": {
        "name": "ipython",
        "version": 3
      },
      "file_extension": ".py",
      "mimetype": "text/x-python",
      "name": "python",
      "nbconvert_exporter": "python",
      "pygments_lexer": "ipython3",
      "version": "3.8.10"
    }
  },
  "nbformat": 4,
  "nbformat_minor": 0
}